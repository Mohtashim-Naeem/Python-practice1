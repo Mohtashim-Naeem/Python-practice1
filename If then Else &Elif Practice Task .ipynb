{
 "cells": [
  {
   "cell_type": "raw",
   "metadata": {},
   "source": [
    "1) A company decided to give bonus of 5% to employee if his/her year of service is more than 5 years.\n",
    "Ask user for their salary and year of service and print the net bonus amount."
   ]
  },
  {
   "cell_type": "code",
   "execution_count": 1,
   "metadata": {},
   "outputs": [
    {
     "name": "stdout",
     "output_type": "stream",
     "text": [
      "enter your service years7\n",
      "enter your salary80000\n",
      "bonus amount is 4000.0\n"
     ]
    }
   ],
   "source": [
    "service_years = int(input(\"enter your service years\"))\n",
    "bonus = None\n",
    "if service_years > 5:\n",
    "    salary = int(input(\"enter your salary\"))\n",
    "    bonus = salary*5/100\n",
    "    print(f\"bonus amount is {bonus}\")\n",
    "else:\n",
    "    print(\"service age is less than 5\")\n",
    "\n",
    " "
   ]
  },
  {
   "cell_type": "code",
   "execution_count": 2,
   "metadata": {},
   "outputs": [
    {
     "name": "stdout",
     "output_type": "stream",
     "text": [
      "How many years have you done of service7\n",
      "How many income you got in a month80000\n",
      "congratulations you have got 84000.0\n"
     ]
    }
   ],
   "source": [
    "yos = int(input(\"How many years have you done of service\"))\n",
    "current_salary = int(input(\"How many income you got in a month\"))\n",
    "bonus = 5\n",
    "if yos>5:\n",
    "    current_salary += current_salary * .05\n",
    "    print(f\"congratulations you have got {current_salary}\")\n",
    "else:\n",
    "    print(\"you got no bonus\")"
   ]
  },
  {
   "cell_type": "markdown",
   "metadata": {},
   "source": [
    "\n",
    "2) Write a program to check whether a person is eligible for voting or not. (accept age from user)"
   ]
  },
  {
   "cell_type": "code",
   "execution_count": null,
   "metadata": {},
   "outputs": [],
   "source": [
    "age = int(input(\"enter your age\"))\n",
    "if age >= 18:\n",
    "    print(\"you are eligible for vote\")\n",
    "else:\n",
    "    print(\"you are not eligible for vote\")"
   ]
  },
  {
   "cell_type": "code",
   "execution_count": 1,
   "metadata": {},
   "outputs": [
    {
     "name": "stdout",
     "output_type": "stream",
     "text": [
      "Enter your age : 18\n",
      "you are Eligible for vote this year.\n"
     ]
    }
   ],
   "source": [
    "voter_age = int(input(\"Enter your age : \"))\n",
    "voter_tatus = None\n",
    "if voter_age >=18:\n",
    "    voter_status = \"Eligible\"\n",
    "else:\n",
    "    voter_status = 'Not Eligible'\n",
    "print(f\"you are {voter_status} for vote this year.\")"
   ]
  },
  {
   "cell_type": "markdown",
   "metadata": {},
   "source": [
    "\n",
    "3) Write a program to check whether a number entered by user is even or odd."
   ]
  },
  {
   "cell_type": "code",
   "execution_count": 2,
   "metadata": {},
   "outputs": [
    {
     "name": "stdout",
     "output_type": "stream",
     "text": [
      "enter a number : 5\n",
      "your number is odd\n"
     ]
    }
   ],
   "source": [
    "number =int(input(\"enter a number : \"))\n",
    " \n",
    "if (number%2)==0:\n",
    "    print(\"your number is even\")\n",
    "else:\n",
    "    print(\"your number is odd\")"
   ]
  },
  {
   "cell_type": "code",
   "execution_count": 3,
   "metadata": {},
   "outputs": [
    {
     "name": "stdout",
     "output_type": "stream",
     "text": [
      "enter number : 6\n",
      "6 is even\n"
     ]
    }
   ],
   "source": [
    "num = int(input(\"enter number : \"))\n",
    "if num%2==0:\n",
    "    print(f\"{num} is even\")\n",
    "else:\n",
    "     print(f\"{num} is odd\")"
   ]
  },
  {
   "cell_type": "raw",
   "metadata": {},
   "source": [
    "4) Write a program to check whether a number is divisible by 7 or not.\n",
    "Show Answer"
   ]
  },
  {
   "cell_type": "code",
   "execution_count": 5,
   "metadata": {},
   "outputs": [
    {
     "name": "stdout",
     "output_type": "stream",
     "text": [
      "enter number : 5\n",
      "5 can't divisible by 7\n"
     ]
    }
   ],
   "source": [
    "num = int(input(\"enter number : \"))\n",
    "if (num%7)==0:\n",
    "    print(f\"{num} can divisible by 7\")\n",
    "else:\n",
    "    print(f\"{num} can't divisible by 7\")"
   ]
  },
  {
   "cell_type": "raw",
   "metadata": {},
   "source": [
    "5) Write a program to display \n",
    "\"Hello\" if a number entered by user is a multiple of five , otherwise print \"Bye\"."
   ]
  },
  {
   "cell_type": "code",
   "execution_count": 6,
   "metadata": {},
   "outputs": [
    {
     "name": "stdout",
     "output_type": "stream",
     "text": [
      "enter number : 6\n",
      "bye\n"
     ]
    }
   ],
   "source": [
    "num =int(input(\"enter number : \"))\n",
    "if num % 5==0:\n",
    "    print(\"hello\")\n",
    "else:\n",
    "    print(\"bye\")\n",
    "               "
   ]
  },
  {
   "cell_type": "raw",
   "metadata": {},
   "source": [
    "6) Write a program to calculate the electricity bill (accept number of unit from user) according to the following criteria :\n",
    "     Unit                                                     Price  \n",
    "uptp 100 units                                             no charge\n",
    "Next 200 units                                              Rs 5 per unit\n",
    "After 200 units                                             Rs 10 per unit\n",
    "(For example if input unit is 350 than total bill amount is Rs.3500\n",
    "(For example if input unit is 97 than total bill amount is Rs.0\n",
    "(For example if input unit is 150 than total bill amount is Rs.750"
   ]
  },
  {
   "cell_type": "code",
   "execution_count": 7,
   "metadata": {},
   "outputs": [
    {
     "name": "stdout",
     "output_type": "stream",
     "text": [
      "enter your unit ammount : 234\n",
      "your unit charge is 234 according to Rs.10 per unit your charge is 2340\n"
     ]
    }
   ],
   "source": [
    "unit = int(input(\"enter your unit ammount : \"))\n",
    "if unit<=100 :\n",
    "    print(\"no charge\")\n",
    "elif unit<=200:\n",
    "    print(f\"your unit ammount is {unit} acccording to Rs.5 per unit your charge is\",unit*5)\n",
    "elif unit>200:\n",
    "    print(f\"your unit charge is {unit} according to Rs.10 per unit your charge is\",unit*10)\n",
    "    "
   ]
  },
  {
   "cell_type": "code",
   "execution_count": 8,
   "metadata": {},
   "outputs": [
    {
     "name": "stdout",
     "output_type": "stream",
     "text": [
      "Enter your unit consumed : 345\n",
      "1950\n"
     ]
    }
   ],
   "source": [
    "unit_consumed = int(input(\"Enter your unit consumed : \"))\n",
    "bill_amount = 0\n",
    "per_unit_price = None\n",
    "if unit_consumed<=100:\n",
    "    per_unit_price = 0\n",
    "    bill_amount = unit_consumed*per_unit_price\n",
    "elif unit_consumed>100 and unit_consumed<=200:\n",
    "    billed_units = unit_consumed-100\n",
    "    per_unit_price = 5\n",
    "    bill_amount = billed_units*per_unit_price\n",
    "elif unit_consumed >200 and unit_consumed<=500 :\n",
    "    billed_units200 = unit_consumed-200\n",
    "    per_unit_price = 10\n",
    "    bill_amount = billed_units200*per_unit_price + (100-0)*0 + (200-100)*5\n",
    "else:\n",
    "    per_unit_price = 50\n",
    "    billed_units500 = unit_consumed-500\n",
    "    bill_amount = billed_units500*per_unit_price + (500-200)*10 + (200-100)*5 + (100-0)*0\n",
    "print(bill_amount)"
   ]
  },
  {
   "cell_type": "raw",
   "metadata": {},
   "source": [
    "7) Write a program to display the last digit of a number.\n"
   ]
  },
  {
   "cell_type": "code",
   "execution_count": 3,
   "metadata": {},
   "outputs": [
    {
     "name": "stdout",
     "output_type": "stream",
     "text": [
      "write your phone number4567\n",
      "The Last Digit in a Given Number 4567 = 7\n"
     ]
    },
    {
     "data": {
      "text/plain": [
       "6"
      ]
     },
     "execution_count": 3,
     "metadata": {},
     "output_type": "execute_result"
    }
   ],
   "source": [
    "def lastDigit(num):\n",
    "   # return num % 10\n",
    "   print()\n",
    "digits = int(input(\"write your phone number\"))\n",
    "\n",
    "last_digit = lastDigit(digits)\n",
    "\n",
    "print(\"The Last Digit in a Given Number %d = %d\" %(digits, last_digit))\n",
    "lastDigit(3456)"
   ]
  },
  {
   "cell_type": "code",
   "execution_count": 23,
   "metadata": {},
   "outputs": [
    {
     "name": "stdout",
     "output_type": "stream",
     "text": [
      "Enter a num : 34567432\n",
      "2\n"
     ]
    }
   ],
   "source": [
    "userinput = int(input(\"Enter a num : \"))\n",
    "lastDigit = userinput%10\n",
    "print(lastDigit)"
   ]
  },
  {
   "cell_type": "raw",
   "metadata": {},
   "source": [
    "\n",
    "Q8. Write a program to check whether the last digit of a number( entered by user ) is \n",
    "divisible by 3 or not."
   ]
  },
  {
   "cell_type": "code",
   "execution_count": 24,
   "metadata": {},
   "outputs": [
    {
     "name": "stdout",
     "output_type": "stream",
     "text": [
      "yes\n"
     ]
    }
   ],
   "source": [
    "if lastDigit%3:\n",
    "    print('yes')\n",
    "else:\n",
    "    print('No')"
   ]
  },
  {
   "cell_type": "raw",
   "metadata": {},
   "source": [
    "9) Take values of length and breadth of a rectangle from user and check if it is square or not."
   ]
  },
  {
   "cell_type": "code",
   "execution_count": 26,
   "metadata": {},
   "outputs": [
    {
     "name": "stdout",
     "output_type": "stream",
     "text": [
      "tell me length of a box : 4\n",
      "tell me breadth of a box5\n",
      "It's Rectangle\n"
     ]
    }
   ],
   "source": [
    "length = int(input(\"tell me length of a box : \"))\n",
    "breadth = int(input(\"tell me breadth of a box\"))\n",
    "if length == breadth:\n",
    "    print(\"It's Square\")\n",
    "else:\n",
    "    print(\"It's Rectangle\")"
   ]
  },
  {
   "cell_type": "raw",
   "metadata": {},
   "source": [
    "10) Take two int values from user and print greatest among them."
   ]
  },
  {
   "cell_type": "code",
   "execution_count": null,
   "metadata": {},
   "outputs": [],
   "source": [
    "greatest = None\n",
    "value1 = int(input(\"write your first int value : \"))\n",
    "value2 = int(input(\"write your second int value : \"))\n",
    "if value1>value2:\n",
    "    print(f\"{value1} is greater than {value2}\")\n",
    "else:\n",
    "    print(f\"{value2} is greater than {value1}\")"
   ]
  },
  {
   "cell_type": "raw",
   "metadata": {},
   "source": [
    "11) A shop will give discount of 10% if the cost of purchased quantity is more than 1000.\n",
    "Ask user for quantity\n",
    "Suppose, one unit will cost 100.\n",
    "Judge and print total cost for user."
   ]
  },
  {
   "cell_type": "code",
   "execution_count": null,
   "metadata": {},
   "outputs": [],
   "source": [
    "quantity = int(input(\"write your purchased quantity : \"))\n",
    "total = quantity*100\n",
    "Discount = None\n",
    "if (total>1000):\n",
    "    Discount = total*10/100\n",
    "    total = total - Discount\n",
    "    print(f\"After discount your ammount is {total}\")\n",
    "else:\n",
    "    print(\"We Are Sorry, You are not able to fit this in.\")\n",
    "    "
   ]
  },
  {
   "cell_type": "code",
   "execution_count": null,
   "metadata": {},
   "outputs": [],
   "source": [
    "units = int(input(\"how many items you have purchased : \"))\n",
    "price_per_unit = 100\n",
    "totalbill = units*price_per_unit\n",
    "if totalbill>=1000:\n",
    "    totalbill -= totalbill*.10\n",
    "print(totalbill)"
   ]
  },
  {
   "cell_type": "raw",
   "metadata": {},
   "source": [
    "12) A school has following rules for grading system:\n",
    "\n",
    "a. Below 25 - F\n",
    "\n",
    "b. 25 to 45 - E\n",
    "\n",
    "c. 45 to 50 - D\n",
    "\n",
    "d. 50 to 60 - C\n",
    "\n",
    "e. 60 to 80 - B\n",
    "\n",
    "f. Above 80 - A\n",
    "\n",
    "Ask user to enter marks and print the corresponding grade."
   ]
  },
  {
   "cell_type": "code",
   "execution_count": 1,
   "metadata": {},
   "outputs": [
    {
     "name": "stdout",
     "output_type": "stream",
     "text": [
      "Enter Your Marks of English : 98\n",
      "Enter Your Marks of Maths99\n",
      "Enter Your Marks of Science87\n",
      "Enter Your Marks of Urdu78\n",
      "Enter Your Marks of Islamiyat90\n",
      "\n",
      "            RESULT CARD\n",
      "            ___________\n",
      "      Obtained marks : 452      \n",
      "      Percentage     : 90.4\n",
      "      Grade          : A\n",
      "\n",
      "      \n"
     ]
    }
   ],
   "source": [
    "English= int(input(\"Enter Your Marks of English : \"))\n",
    "Maths = int(input(\"Enter Your Marks of Maths\"))\n",
    "Science= int(input(\"Enter Your Marks of Science\"))\n",
    "Urdu= int(input(\"Enter Your Marks of Urdu\"))\n",
    "Islamiyat= int(input(\"Enter Your Marks of Islamiyat\"))\n",
    "grade = None\n",
    "total_obtained = English + Maths + Science + Urdu + Islamiyat\n",
    "percentage = total_obtained/500*100\n",
    "\n",
    "\n",
    "if percentage > 80 :\n",
    "    grade = \"A\"\n",
    "elif percentage > 60 and percentage < 80:\n",
    "    grade = \"B\"\n",
    "elif percentage > 50 and percentage < 60:\n",
    "    grade = \"C\"\n",
    "elif percentage > 45 and percentage < 50:\n",
    "    grade = \"D\"\n",
    "elif percentage > 25 and percentage < 50:\n",
    "    grade = \"E\"\n",
    "else:\n",
    "    grade = \"F\"\n",
    "print(f\"\"\"\n",
    "            RESULT CARD\n",
    "            ___________\n",
    "      Obtained marks : {total_obtained}      \n",
    "      Percentage     : {percentage}\n",
    "      Grade          : {grade}\n",
    "\n",
    "      \"\"\")    \n"
   ]
  },
  {
   "cell_type": "markdown",
   "metadata": {},
   "source": [
    "## 13) Take input of age of 3 people by user and determine oldest and youngest among them."
   ]
  },
  {
   "cell_type": "code",
   "execution_count": 12,
   "metadata": {},
   "outputs": [
    {
     "name": "stdout",
     "output_type": "stream",
     "text": [
      "enter your age22\n",
      "enter your age18\n",
      "enter your age35\n",
      "Amoung 3 people Oldest one is 35 and Youngest amoung them is 18\n"
     ]
    }
   ],
   "source": [
    "person1 = int(input(\"enter your age\"))\n",
    "person2 = int(input(\"enter your age\"))\n",
    "person3= int(input(\"enter your age\"))\n",
    "if person1 >person2 and person1 >person3:\n",
    "    oldest = person1 \n",
    "elif person2 > person1 and person2 > person3:\n",
    "    oldest = person2\n",
    "elif person3 > person1 and person3 > person2:\n",
    "    oldest = person3\n",
    "else:\n",
    "    pass\n",
    "\n",
    "if person1 < person2 and person1 < person3:\n",
    "    youngest = person1 \n",
    "elif person2 < person1 and person2 < person3:\n",
    "    youngest = person2\n",
    "elif person3 < person1 and person3 <person2:\n",
    "    youngest = person3\n",
    "else:\n",
    "    pass\n",
    "\n",
    "print(f\"Amoung 3 people Oldest one is {oldest} and Youngest amoung them is {youngest}\")\n"
   ]
  },
  {
   "cell_type": "code",
   "execution_count": 4,
   "metadata": {},
   "outputs": [
    {
     "name": "stdout",
     "output_type": "stream",
     "text": [
      "enter your age45\n",
      "enter your age56\n",
      "enter your age73\n",
      "the person with higest age is : 73 \n",
      " the person with lowest age is : 45\n"
     ]
    }
   ],
   "source": [
    "person1 = int(input(\"enter your age\"))\n",
    "person2 = int(input(\"enter your age\"))\n",
    "person3= int(input(\"enter your age\"))\n",
    "age = [person1,person2,person3]\n",
    "high = age[0]\n",
    "low = age[0]\n",
    "for i in range(3):\n",
    "    if age[i]>high:\n",
    "        high=age[i]\n",
    "    if age[i]<low:\n",
    "        low=age[i]\n",
    "print(f\"the person with higest age is : {high} \\n the person with lowest age is : {low}\")"
   ]
  },
  {
   "cell_type": "raw",
   "metadata": {},
   "source": [
    "14)A student will not be allowed to sit in exam if his/her attendence is less than 75%.\n",
    "\n",
    "Take following input from user\n",
    "\n",
    "Number of classes held\n",
    "\n",
    "Number of classes attended.\n",
    "\n",
    "And print\n",
    "\n",
    "percentage of class attended\n",
    "\n",
    "Is student is allowed to sit in exam or not.\n"
   ]
  },
  {
   "cell_type": "code",
   "execution_count": 5,
   "metadata": {},
   "outputs": [
    {
     "name": "stdout",
     "output_type": "stream",
     "text": [
      "How many classes held45\n",
      "How many classes you Attended45\n",
      "100.0 %\n",
      "You're Allowed to Sit in Exam\n"
     ]
    }
   ],
   "source": [
    "classes = int(input(\"How many classes held\"))\n",
    "attend  = int(input(\"How many classes you Attended\"))\n",
    "per = attend/classes*100\n",
    "print(per,'%')\n",
    "if per>=75:\n",
    "    exam = \"You're Allowed to Sit in Exam\"\n",
    "else:\n",
    "    exam =\"You aren't Allowed to Sit in Exam\"\n",
    "print(exam)"
   ]
  },
  {
   "cell_type": "raw",
   "metadata": {},
   "source": [
    "15) Modify the above question to allow student to sit if he/she has medical cause. Ask user if he/she has medical cause or not ( 'Y' or 'N' ) and print accordingly."
   ]
  },
  {
   "cell_type": "code",
   "execution_count": 1,
   "metadata": {},
   "outputs": [
    {
     "name": "stdout",
     "output_type": "stream",
     "text": [
      "How many classes held50\n",
      "How many classes you Attended28\n",
      "Do you have any medical cause, Type Yes or Noyes\n",
      "56.00000000000001 %\n",
      "You are Allowed to Sit in Exam\n"
     ]
    }
   ],
   "source": [
    "classes = int(input(\"How many classes held\"))\n",
    "attend  = int(input(\"How many classes you Attended\"))\n",
    "medical_caus = input(\"Do you have any medical cause, Type Yes or No\")\n",
    "per = attend/classes*100\n",
    "print(per,'%')\n",
    "if per>=75:\n",
    "    exam = \"You're Allowed to Sit in Exam\"\n",
    "elif per<75 and medical_caus.upper()=='YES':\n",
    "    exam =\"You are Allowed to Sit in Exam\"\n",
    "else:\n",
    "    exam=\"You are not Allowed to Sit in Exam\"\n",
    "print(exam)"
   ]
  },
  {
   "cell_type": "raw",
   "metadata": {},
   "source": [
    "16) Write a program to check if a year is leap year or not.\n",
    "\n",
    "If a year is divisible by 4 then it is leap year but if the year is century year like 2000, 1900, 2100 then it must be divisible by 400."
   ]
  },
  {
   "cell_type": "code",
   "execution_count": 7,
   "metadata": {},
   "outputs": [
    {
     "name": "stdout",
     "output_type": "stream",
     "text": [
      "Enter a year: 2018\n",
      "It is a leap year\n"
     ]
    }
   ],
   "source": [
    "year = int(input(\"Enter a year: \"))\n",
    "if year%4==0:\n",
    "    print(\"It is a leap year\")\n",
    "elif year%400==0 and year%100==0:\n",
    "    print(\"It is a leap year\")\n",
    "else:\n",
    "    print(\"It is a leap year\")\n"
   ]
  },
  {
   "cell_type": "raw",
   "metadata": {},
   "source": [
    "17) Ask user to enter age, gender ( M or F ), marital status ( Y or N ) and then using following rules print their place of service.\n",
    "\n",
    "if employee is female, then she will work only in urban areas.\n",
    "\n",
    "if employee is a male and age is in between 20 to 40 then he may work in anywhere\n",
    "\n",
    "if employee is male and age is in between 40 t0 60 then he will work in urban areas only.\n",
    "\n",
    "And any other input of age should print \"ERROR\""
   ]
  },
  {
   "cell_type": "code",
   "execution_count": null,
   "metadata": {},
   "outputs": [],
   "source": [
    "age = int(input(\"How old are you? : \"))\n",
    "if age <20 :\n",
    "    print(\"ERROR\")\n",
    "gender = input(\"Enter your gender: (M/F) : \").upper()\n",
    "married = input(\"Are you married? (Y/N) : \").upper()\n",
    "\n",
    "if gender == 'F':\n",
    "    print(\"you wil work only in urban areas.\")\n",
    "elif (gender=='M') and (age >= 20) and (age <= 40):\n",
    "    print(\"you may work only in urban areas.\")\n",
    "elif (gender=='M') and (age >= 40) and (age <= 60):\n",
    "    print(\"you wil work only in urban areas.\")\n",
    "else:\n",
    "    print(\"We Are Sorry, You are not able to fit this in.\")\n",
    "    "
   ]
  },
  {
   "cell_type": "code",
   "execution_count": null,
   "metadata": {},
   "outputs": [],
   "source": []
  }
 ],
 "metadata": {
  "kernelspec": {
   "display_name": "Python 3 (ipykernel)",
   "language": "python",
   "name": "python3"
  },
  "language_info": {
   "codemirror_mode": {
    "name": "ipython",
    "version": 3
   },
   "file_extension": ".py",
   "mimetype": "text/x-python",
   "name": "python",
   "nbconvert_exporter": "python",
   "pygments_lexer": "ipython3",
   "version": "3.9.12"
  }
 },
 "nbformat": 4,
 "nbformat_minor": 2
}
