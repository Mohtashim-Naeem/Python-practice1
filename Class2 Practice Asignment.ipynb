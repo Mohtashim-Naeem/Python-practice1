{
 "cells": [
  {
   "cell_type": "markdown",
   "id": "f6519aad",
   "metadata": {},
   "source": [
    "# User input"
   ]
  },
  {
   "cell_type": "raw",
   "id": "948191fe",
   "metadata": {},
   "source": [
    "1. Take a sentence input from user using input function. Count occurence of a particular character/word in the sentence and print the message that the character appear this many times in the sentence.\n",
    "Like if user inputs> \"My name is Sana. I am an undergraduate student. I am learning Artificial Intellegence in PIAIC\"\n",
    "Your output should be:\n",
    "    I appears 5 times in your sentence\n",
    "Hint: nahi batounga use string methods.\n",
    "Note: Sana is a boy. His full name is SanaUllah😄"
   ]
  },
  {
   "cell_type": "code",
   "execution_count": 11,
   "id": "46fe939e",
   "metadata": {},
   "outputs": [
    {
     "name": "stdout",
     "output_type": "stream",
     "text": [
      "tell me about you briefly>>  I am Mohtashim Naeem. I just gave my SSC exams. Now, I am learning AI in PIAIC. I love to do programming specially python. Inshallah, I will become a ML engineer.\n"
     ]
    }
   ],
   "source": [
    "sentence = input(\"tell me about you briefly\")\n"
   ]
  },
  {
   "cell_type": "code",
   "execution_count": 12,
   "id": "95d74e9e",
   "metadata": {},
   "outputs": [
    {
     "data": {
      "text/plain": [
       "9"
      ]
     },
     "execution_count": 12,
     "metadata": {},
     "output_type": "execute_result"
    }
   ],
   "source": [
    "sentence.count('I')"
   ]
  },
  {
   "cell_type": "code",
   "execution_count": 13,
   "id": "8c0c67b5",
   "metadata": {},
   "outputs": [
    {
     "name": "stdout",
     "output_type": "stream",
     "text": [
      "the character 'I' appear '9' times in the sentence.\n"
     ]
    }
   ],
   "source": [
    "print(\"the character 'I' appear '9' times in the sentence.\")"
   ]
  },
  {
   "cell_type": "raw",
   "id": "bf6c3672",
   "metadata": {},
   "source": [
    "2. Take a number input from user and print the square of that number. \n",
    "\n",
    "if a user inputs 10 Your output should be like:\n",
    "    The square of 10 is 100\n",
    "if a user inputs 5 Your output should be like:\n",
    "    The square of 5 is 25\n",
    "if a user inputs 2 Your output should be like:\n",
    "    The square of 2 is 4\n"
   ]
  },
  {
   "cell_type": "code",
   "execution_count": 3,
   "id": "bf21330a",
   "metadata": {},
   "outputs": [
    {
     "name": "stdout",
     "output_type": "stream",
     "text": [
      "tell me a number18\n"
     ]
    }
   ],
   "source": [
    "age = input(\"tell me a number\")"
   ]
  },
  {
   "cell_type": "code",
   "execution_count": 8,
   "id": "732b7a72",
   "metadata": {},
   "outputs": [
    {
     "name": "stdout",
     "output_type": "stream",
     "text": [
      "324\n"
     ]
    }
   ],
   "source": [
    "print(int(age)**2)"
   ]
  },
  {
   "cell_type": "raw",
   "id": "0da0f529",
   "metadata": {},
   "source": [
    "3. Take two inputs from user using two input functions add these two numbers and print the result.\n",
    "For example if a user inputs 10 in first input, 20 in second input then your output mustbe like:\n",
    "    The sum of 10 and 20 is 30\n",
    "    \n",
    "For example if a user inputs 12 in first input, 30 in second input then your output mustbe like:\n",
    "    The sum of 12 and 30 is 42\n",
    "\n",
    "For example if a user inputs 100 in first input, 200 in second input then your out put mustbe like:\n",
    "    The sum of 100 and 200 is 300"
   ]
  },
  {
   "cell_type": "code",
   "execution_count": 11,
   "id": "681d81a4",
   "metadata": {},
   "outputs": [
    {
     "name": "stdout",
     "output_type": "stream",
     "text": [
      "tell me your age18\n",
      "tell me your younger brother's age25\n"
     ]
    }
   ],
   "source": [
    "age_1 = int(input(\"tell me your age\"))\n",
    "age_2 = int(input(\"tell me your younger brother's age\"))\n"
   ]
  },
  {
   "cell_type": "code",
   "execution_count": 12,
   "id": "dfecfb3f",
   "metadata": {},
   "outputs": [
    {
     "name": "stdout",
     "output_type": "stream",
     "text": [
      "43\n"
     ]
    }
   ],
   "source": [
    "print(age_1+age_2)"
   ]
  },
  {
   "cell_type": "raw",
   "id": "f957eb50",
   "metadata": {},
   "source": [
    "4. Format a string to display a card like string:\n",
    "    \n",
    "            Presidential Initiative for AI & Computing\n",
    "                          ID CARD\n",
    "            Student Name   : Asad Ali\n",
    "            Father Name    : Amjad Ali\n",
    "            Date of Birth  : 01-01-2000\n",
    "            Course Enrolled: Artificial Intelligence\n",
    "            Batch          : 2022\n",
    "            Day            : Saturday \n",
    "            Centre         : Sir Syed University of Engg and Technology\n",
    "                \n",
    "Note: all the field values must be taken as user inputs and stored in variable"
   ]
  },
  {
   "cell_type": "code",
   "execution_count": 4,
   "id": "0f2d4d2d",
   "metadata": {},
   "outputs": [
    {
     "name": "stdout",
     "output_type": "stream",
     "text": [
      "tell me your name Mohtashim\n",
      "tell me your father name Naeem\n",
      "tell me your date of birth 26-04-2004\n",
      "tell me in which course you enrolled Artificial Intelligence\n",
      "tell me batch 2022\n",
      "tell your day of course Saturday\n",
      "tell me centre name Sir Syed University of Engg and Technology\n"
     ]
    }
   ],
   "source": [
    "Student_name = input(\"tell me your name\")\n",
    "Father_name = input(\"tell me your father name\")\n",
    "Date_of_birth = input(\"tell me your date of birth\")\n",
    "Course_enrolled = input(\"tell me in which course you enrolled\")\n",
    "Batch = input(\"tell me batch\")\n",
    "Day =input(\"tell your day of course\")\n",
    "Centre = input(\"tell me centre name\")"
   ]
  },
  {
   "cell_type": "code",
   "execution_count": 5,
   "id": "61109e1c",
   "metadata": {},
   "outputs": [
    {
     "name": "stdout",
     "output_type": "stream",
     "text": [
      "\n",
      "           Presidential Initiative for AI & Computing\n",
      "                         ID CARD\n",
      "           Student Name   : Mohtashim \n",
      "           Father Name    : Naeem\n",
      "           Date of Birth  : 26-04-2004 \n",
      "           Course Enrolled:  Artificial Intelligence\n",
      "           Batch          :  2022\n",
      "           Day            : Saturday\n",
      "           Centre         : Sir Syed University of Engg and Technology\n",
      "           \n",
      "\n"
     ]
    }
   ],
   "source": [
    "print(f\"\"\"\n",
    "           Presidential Initiative for AI & Computing\n",
    "                         ID CARD\n",
    "           Student Name   :{Student_name} \n",
    "           Father Name    :{Father_name}\n",
    "           Date of Birth  :{Date_of_birth} \n",
    "           Course Enrolled: {Course_enrolled}\n",
    "           Batch          : {Batch}\n",
    "           Day            :{Day}\n",
    "           Centre         :{Centre}\n",
    "           \n",
    "\"\"\")"
   ]
  },
  {
   "cell_type": "code",
   "execution_count": null,
   "id": "aae49ad9",
   "metadata": {},
   "outputs": [],
   "source": []
  }
 ],
 "metadata": {
  "kernelspec": {
   "display_name": "Python 3 (ipykernel)",
   "language": "python",
   "name": "python3"
  },
  "language_info": {
   "codemirror_mode": {
    "name": "ipython",
    "version": 3
   },
   "file_extension": ".py",
   "mimetype": "text/x-python",
   "name": "python",
   "nbconvert_exporter": "python",
   "pygments_lexer": "ipython3",
   "version": "3.9.12"
  }
 },
 "nbformat": 4,
 "nbformat_minor": 5
}
